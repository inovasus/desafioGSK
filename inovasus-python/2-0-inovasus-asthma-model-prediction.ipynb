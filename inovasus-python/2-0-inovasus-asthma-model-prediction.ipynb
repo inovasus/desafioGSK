{
 "cells": [
  {
   "cell_type": "code",
   "execution_count": 52,
   "metadata": {},
   "outputs": [],
   "source": [
    "# Bibliotecas\n",
    "import os\n",
    "import pandas as pd\n",
    "import sklearn\n",
    "import numpy as np \n",
    "\n",
    "import datetime\n",
    "\n",
    "from matplotlib import pyplot as plt\n",
    "from sklearn.model_selection import cross_val_score\n",
    "\n",
    "from sklearn.model_selection import train_test_split\n",
    "\n",
    "from sklearn.metrics import confusion_matrix\n",
    "\n",
    "from sklearn import metrics\n",
    "from sklearn.metrics import accuracy_score, confusion_matrix, precision_recall_fscore_support\n",
    "from sklearn.model_selection import cross_validate\n",
    "# Models\n",
    "\n",
    "from sklearn.neural_network import MLPClassifier\n",
    "\n",
    "from sklearn.tree import DecisionTreeClassifier\n",
    "\n",
    "from sklearn.ensemble import RandomForestClassifier, GradientBoostingClassifier, VotingClassifier\n",
    "\n",
    "\n",
    "#from sklearn.ensemble import RandomForestRegressor"
   ]
  },
  {
   "cell_type": "code",
   "execution_count": 2,
   "metadata": {},
   "outputs": [
    {
     "data": {
      "text/plain": [
       "'/Users/fb/Downloads/osp'"
      ]
     },
     "execution_count": 2,
     "metadata": {},
     "output_type": "execute_result"
    }
   ],
   "source": [
    "# Datasets\n",
    "path1=\"/Users/fb/Downloads/osp\"\n",
    "os.chdir(path1)\n",
    "os.getcwd()"
   ]
  },
  {
   "cell_type": "code",
   "execution_count": 3,
   "metadata": {},
   "outputs": [],
   "source": [
    "df_hosp = pd.read_csv('hosp_vfinal.csv', encoding='latin-1')"
   ]
  },
  {
   "cell_type": "code",
   "execution_count": 4,
   "metadata": {
    "scrolled": true
   },
   "outputs": [],
   "source": [
    "#df_hosp.columns.tolist()"
   ]
  },
  {
   "cell_type": "code",
   "execution_count": 5,
   "metadata": {},
   "outputs": [],
   "source": [
    "# New columns para o target\n",
    "df_hosp['estacao'] = 0\n",
    "#df_hosp['custo'] = 0\n",
    "#df_hosp['internacao'] = 0"
   ]
  },
  {
   "cell_type": "code",
   "execution_count": 6,
   "metadata": {},
   "outputs": [
    {
     "data": {
      "text/html": [
       "<div>\n",
       "<style scoped>\n",
       "    .dataframe tbody tr th:only-of-type {\n",
       "        vertical-align: middle;\n",
       "    }\n",
       "\n",
       "    .dataframe tbody tr th {\n",
       "        vertical-align: top;\n",
       "    }\n",
       "\n",
       "    .dataframe thead th {\n",
       "        text-align: right;\n",
       "    }\n",
       "</style>\n",
       "<table border=\"1\" class=\"dataframe\">\n",
       "  <thead>\n",
       "    <tr style=\"text-align: right;\">\n",
       "      <th></th>\n",
       "      <th>Unnamed: 0</th>\n",
       "      <th>SEXO</th>\n",
       "      <th>PROC_REA</th>\n",
       "      <th>VAL_TOT</th>\n",
       "      <th>DT_INTER</th>\n",
       "      <th>IDADE</th>\n",
       "      <th>DIAS_PERM</th>\n",
       "      <th>estado_id</th>\n",
       "      <th>estacao</th>\n",
       "    </tr>\n",
       "  </thead>\n",
       "  <tbody>\n",
       "    <tr>\n",
       "      <th>0</th>\n",
       "      <td>1</td>\n",
       "      <td>1</td>\n",
       "      <td>303140046</td>\n",
       "      <td>479.19</td>\n",
       "      <td>20140119</td>\n",
       "      <td>31</td>\n",
       "      <td>2</td>\n",
       "      <td>12</td>\n",
       "      <td>0</td>\n",
       "    </tr>\n",
       "    <tr>\n",
       "      <th>1</th>\n",
       "      <td>2</td>\n",
       "      <td>3</td>\n",
       "      <td>303140046</td>\n",
       "      <td>503.19</td>\n",
       "      <td>20140107</td>\n",
       "      <td>3</td>\n",
       "      <td>3</td>\n",
       "      <td>12</td>\n",
       "      <td>0</td>\n",
       "    </tr>\n",
       "    <tr>\n",
       "      <th>2</th>\n",
       "      <td>3</td>\n",
       "      <td>1</td>\n",
       "      <td>303140046</td>\n",
       "      <td>479.19</td>\n",
       "      <td>20140116</td>\n",
       "      <td>19</td>\n",
       "      <td>2</td>\n",
       "      <td>12</td>\n",
       "      <td>0</td>\n",
       "    </tr>\n",
       "    <tr>\n",
       "      <th>3</th>\n",
       "      <td>4</td>\n",
       "      <td>3</td>\n",
       "      <td>303140046</td>\n",
       "      <td>495.19</td>\n",
       "      <td>20140117</td>\n",
       "      <td>1</td>\n",
       "      <td>2</td>\n",
       "      <td>12</td>\n",
       "      <td>0</td>\n",
       "    </tr>\n",
       "    <tr>\n",
       "      <th>4</th>\n",
       "      <td>5</td>\n",
       "      <td>1</td>\n",
       "      <td>303140046</td>\n",
       "      <td>535.19</td>\n",
       "      <td>20140110</td>\n",
       "      <td>1</td>\n",
       "      <td>7</td>\n",
       "      <td>12</td>\n",
       "      <td>0</td>\n",
       "    </tr>\n",
       "  </tbody>\n",
       "</table>\n",
       "</div>"
      ],
      "text/plain": [
       "   Unnamed: 0  SEXO   PROC_REA  VAL_TOT  DT_INTER  IDADE  DIAS_PERM  \\\n",
       "0           1     1  303140046   479.19  20140119     31          2   \n",
       "1           2     3  303140046   503.19  20140107      3          3   \n",
       "2           3     1  303140046   479.19  20140116     19          2   \n",
       "3           4     3  303140046   495.19  20140117      1          2   \n",
       "4           5     1  303140046   535.19  20140110      1          7   \n",
       "\n",
       "   estado_id  estacao  \n",
       "0         12        0  \n",
       "1         12        0  \n",
       "2         12        0  \n",
       "3         12        0  \n",
       "4         12        0  "
      ]
     },
     "execution_count": 6,
     "metadata": {},
     "output_type": "execute_result"
    }
   ],
   "source": [
    "df_hosp.head()"
   ]
  },
  {
   "cell_type": "code",
   "execution_count": 7,
   "metadata": {},
   "outputs": [],
   "source": [
    "# Ajustando data\n",
    "date = df_hosp.DT_INTER\n",
    "date = pd.to_datetime(date, format='%Y%m%d', errors='ignore')\n",
    "df_hosp['ano'] = pd.DatetimeIndex(date).year\n",
    "df_hosp['mes'] = pd.DatetimeIndex(date).month\n",
    "df_hosp['dia'] = pd.DatetimeIndex(date).day\n",
    "#df_hosp['dia']"
   ]
  },
  {
   "cell_type": "code",
   "execution_count": 8,
   "metadata": {},
   "outputs": [],
   "source": [
    "# Ajustando Data para temperatura/estacao\n",
    "#df_hosp['estacao'][ df_hosp['mes'] == '1' ] = \"1\"\n",
    "### Verao -> 21 de dezembro (19h23) a 20 de março de 2019\n",
    "df_hosp.loc[(df_hosp['mes'] == 12) & (df_hosp['dia'] >= 21),'estacao'] = 1\n",
    "df_hosp.loc[(df_hosp['mes'] >= 1) & (df_hosp['mes'] <= 2),'estacao'] = 1\n",
    "df_hosp.loc[(df_hosp['mes'] == 3) & (df_hosp['dia'] <= 20),'estacao'] = 1\n",
    "### Outono -> 20 de março (13h15) a 21 de junho (7h07).\n",
    "df_hosp.loc[(df_hosp['mes'] == 3) & (df_hosp['dia'] >= 20),'estacao'] = 2\n",
    "df_hosp.loc[(df_hosp['mes'] >= 4) & (df_hosp['mes'] <= 5),'estacao'] = 2\n",
    "df_hosp.loc[(df_hosp['mes'] == 6) & (df_hosp['dia'] <= 21),'estacao'] = 2\n",
    "### Inversno -> 21 de junho (7h07) a 22 de setembro\n",
    "df_hosp.loc[(df_hosp['mes'] == 6) & (df_hosp['dia'] >= 21),'estacao'] = 3\n",
    "df_hosp.loc[(df_hosp['mes'] >= 7) & (df_hosp['mes'] <= 8),'estacao'] = 3\n",
    "df_hosp.loc[(df_hosp['mes'] == 9) & (df_hosp['dia'] <= 22),'estacao'] = 3\n",
    "### Primavera -> 22 de setembro (22h54) a 21 de dezembro \n",
    "df_hosp.loc[(df_hosp['mes'] == 9) & (df_hosp['dia'] >= 22),'estacao'] = 4\n",
    "df_hosp.loc[(df_hosp['mes'] >= 10) & (df_hosp['mes'] <= 11),'estacao'] = 4\n",
    "df_hosp.loc[(df_hosp['mes'] == 12) & (df_hosp['dia'] <= 21),'estacao'] = 4"
   ]
  },
  {
   "cell_type": "code",
   "execution_count": 9,
   "metadata": {},
   "outputs": [],
   "source": [
    "#Ajustando sexo\n",
    "df_hosp['SEXO_2'] = 0\n",
    "df_hosp.loc[df_hosp['SEXO'] == 3, 'SEXO_2'] = 1\n",
    "df_hosp = df_hosp.drop('SEXO',1)"
   ]
  },
  {
   "cell_type": "code",
   "execution_count": 10,
   "metadata": {},
   "outputs": [
    {
     "data": {
      "text/html": [
       "<div>\n",
       "<style scoped>\n",
       "    .dataframe tbody tr th:only-of-type {\n",
       "        vertical-align: middle;\n",
       "    }\n",
       "\n",
       "    .dataframe tbody tr th {\n",
       "        vertical-align: top;\n",
       "    }\n",
       "\n",
       "    .dataframe thead th {\n",
       "        text-align: right;\n",
       "    }\n",
       "</style>\n",
       "<table border=\"1\" class=\"dataframe\">\n",
       "  <thead>\n",
       "    <tr style=\"text-align: right;\">\n",
       "      <th></th>\n",
       "      <th>Unnamed: 0</th>\n",
       "      <th>PROC_REA</th>\n",
       "      <th>VAL_TOT</th>\n",
       "      <th>DT_INTER</th>\n",
       "      <th>DIAS_PERM</th>\n",
       "      <th>estado_id</th>\n",
       "      <th>estacao</th>\n",
       "      <th>ano</th>\n",
       "      <th>mes</th>\n",
       "      <th>dia</th>\n",
       "      <th>SEXO_2</th>\n",
       "      <th>Idade_index</th>\n",
       "    </tr>\n",
       "  </thead>\n",
       "  <tbody>\n",
       "    <tr>\n",
       "      <th>0</th>\n",
       "      <td>1</td>\n",
       "      <td>303140046</td>\n",
       "      <td>479.19</td>\n",
       "      <td>20140119</td>\n",
       "      <td>2</td>\n",
       "      <td>12</td>\n",
       "      <td>1</td>\n",
       "      <td>2014</td>\n",
       "      <td>1</td>\n",
       "      <td>19</td>\n",
       "      <td>0</td>\n",
       "      <td>3</td>\n",
       "    </tr>\n",
       "    <tr>\n",
       "      <th>1</th>\n",
       "      <td>2</td>\n",
       "      <td>303140046</td>\n",
       "      <td>503.19</td>\n",
       "      <td>20140107</td>\n",
       "      <td>3</td>\n",
       "      <td>12</td>\n",
       "      <td>1</td>\n",
       "      <td>2014</td>\n",
       "      <td>1</td>\n",
       "      <td>7</td>\n",
       "      <td>1</td>\n",
       "      <td>0</td>\n",
       "    </tr>\n",
       "    <tr>\n",
       "      <th>2</th>\n",
       "      <td>3</td>\n",
       "      <td>303140046</td>\n",
       "      <td>479.19</td>\n",
       "      <td>20140116</td>\n",
       "      <td>2</td>\n",
       "      <td>12</td>\n",
       "      <td>1</td>\n",
       "      <td>2014</td>\n",
       "      <td>1</td>\n",
       "      <td>16</td>\n",
       "      <td>0</td>\n",
       "      <td>1</td>\n",
       "    </tr>\n",
       "    <tr>\n",
       "      <th>3</th>\n",
       "      <td>4</td>\n",
       "      <td>303140046</td>\n",
       "      <td>495.19</td>\n",
       "      <td>20140117</td>\n",
       "      <td>2</td>\n",
       "      <td>12</td>\n",
       "      <td>1</td>\n",
       "      <td>2014</td>\n",
       "      <td>1</td>\n",
       "      <td>17</td>\n",
       "      <td>1</td>\n",
       "      <td>0</td>\n",
       "    </tr>\n",
       "    <tr>\n",
       "      <th>4</th>\n",
       "      <td>5</td>\n",
       "      <td>303140046</td>\n",
       "      <td>535.19</td>\n",
       "      <td>20140110</td>\n",
       "      <td>7</td>\n",
       "      <td>12</td>\n",
       "      <td>1</td>\n",
       "      <td>2014</td>\n",
       "      <td>1</td>\n",
       "      <td>10</td>\n",
       "      <td>0</td>\n",
       "      <td>0</td>\n",
       "    </tr>\n",
       "  </tbody>\n",
       "</table>\n",
       "</div>"
      ],
      "text/plain": [
       "   Unnamed: 0   PROC_REA  VAL_TOT  DT_INTER  DIAS_PERM  estado_id  estacao  \\\n",
       "0           1  303140046   479.19  20140119          2         12        1   \n",
       "1           2  303140046   503.19  20140107          3         12        1   \n",
       "2           3  303140046   479.19  20140116          2         12        1   \n",
       "3           4  303140046   495.19  20140117          2         12        1   \n",
       "4           5  303140046   535.19  20140110          7         12        1   \n",
       "\n",
       "    ano  mes  dia  SEXO_2  Idade_index  \n",
       "0  2014    1   19       0            3  \n",
       "1  2014    1    7       1            0  \n",
       "2  2014    1   16       0            1  \n",
       "3  2014    1   17       1            0  \n",
       "4  2014    1   10       0            0  "
      ]
     },
     "execution_count": 10,
     "metadata": {},
     "output_type": "execute_result"
    }
   ],
   "source": [
    "### Idade\n",
    "## 0 - Criança / 1 - Jovem / 2 - Adulto1 / 3 - Adulto2 / 4 - Adulto3 / 5 - Idoso\n",
    "df_hosp['Idade_index'] = 0\n",
    "df_hosp.loc[df_hosp['IDADE'] < 12, 'Idade_index'] = 0\n",
    "df_hosp.loc[(df_hosp['IDADE'] >= 12) & (df_hosp['IDADE'] < 20), 'Idade_index'] = 1\n",
    "df_hosp.loc[(df_hosp['IDADE'] >= 20) & (df_hosp['IDADE'] < 30), 'Idade_index'] = 2\n",
    "df_hosp.loc[(df_hosp['IDADE'] >= 30) & (df_hosp['IDADE'] < 40), 'Idade_index'] = 3\n",
    "df_hosp.loc[(df_hosp['IDADE'] >= 40) & (df_hosp['IDADE'] < 50), 'Idade_index'] = 4\n",
    "df_hosp.loc[df_hosp['IDADE'] >= 50, 'Idade_index'] = 5\n",
    "df_hosp = df_hosp.drop('IDADE', 1)\n",
    "df_hosp.head()"
   ]
  },
  {
   "cell_type": "code",
   "execution_count": 11,
   "metadata": {},
   "outputs": [],
   "source": [
    "#df_hosp.loc[df_hosp['DIAS_PERM'] < 3, 'DIAS_PERM'] = 0\n",
    "#df_hosp.loc[df_hosp['DIAS_PERM'] >= 3, 'DIAS_PERM'] = 1"
   ]
  },
  {
   "cell_type": "code",
   "execution_count": 12,
   "metadata": {},
   "outputs": [],
   "source": [
    "#df_hosp['PROC_REA'] = df_hosp['PROC_REA'].astype('str')\n",
    "df_hosp['estado_id'] = df_hosp['estado_id'].astype('str')\n",
    "df_hosp['estacao'] = df_hosp['estacao'].astype('str')\n",
    "df_hosp['SEXO_2'] = df_hosp['SEXO_2'].astype('str')\n",
    "df_hosp['Idade_index'] = df_hosp['Idade_index'].astype('str')"
   ]
  },
  {
   "cell_type": "code",
   "execution_count": 13,
   "metadata": {},
   "outputs": [],
   "source": [
    "df_hosp.loc[df_hosp['VAL_TOT'] < 500, 'custo'] = 0\n",
    "df_hosp.loc[df_hosp['VAL_TOT'] >= 500, 'custo'] = 1"
   ]
  },
  {
   "cell_type": "code",
   "execution_count": 14,
   "metadata": {},
   "outputs": [
    {
     "data": {
      "text/html": [
       "<div>\n",
       "<style scoped>\n",
       "    .dataframe tbody tr th:only-of-type {\n",
       "        vertical-align: middle;\n",
       "    }\n",
       "\n",
       "    .dataframe tbody tr th {\n",
       "        vertical-align: top;\n",
       "    }\n",
       "\n",
       "    .dataframe thead th {\n",
       "        text-align: right;\n",
       "    }\n",
       "</style>\n",
       "<table border=\"1\" class=\"dataframe\">\n",
       "  <thead>\n",
       "    <tr style=\"text-align: right;\">\n",
       "      <th></th>\n",
       "      <th>Unnamed: 0</th>\n",
       "      <th>PROC_REA</th>\n",
       "      <th>VAL_TOT</th>\n",
       "      <th>DT_INTER</th>\n",
       "      <th>DIAS_PERM</th>\n",
       "      <th>estado_id</th>\n",
       "      <th>estacao</th>\n",
       "      <th>ano</th>\n",
       "      <th>mes</th>\n",
       "      <th>dia</th>\n",
       "      <th>SEXO_2</th>\n",
       "      <th>Idade_index</th>\n",
       "      <th>custo</th>\n",
       "    </tr>\n",
       "  </thead>\n",
       "  <tbody>\n",
       "    <tr>\n",
       "      <th>0</th>\n",
       "      <td>1</td>\n",
       "      <td>303140046</td>\n",
       "      <td>479.19</td>\n",
       "      <td>20140119</td>\n",
       "      <td>2</td>\n",
       "      <td>12</td>\n",
       "      <td>1</td>\n",
       "      <td>2014</td>\n",
       "      <td>1</td>\n",
       "      <td>19</td>\n",
       "      <td>0</td>\n",
       "      <td>3</td>\n",
       "      <td>0.0</td>\n",
       "    </tr>\n",
       "    <tr>\n",
       "      <th>1</th>\n",
       "      <td>2</td>\n",
       "      <td>303140046</td>\n",
       "      <td>503.19</td>\n",
       "      <td>20140107</td>\n",
       "      <td>3</td>\n",
       "      <td>12</td>\n",
       "      <td>1</td>\n",
       "      <td>2014</td>\n",
       "      <td>1</td>\n",
       "      <td>7</td>\n",
       "      <td>1</td>\n",
       "      <td>0</td>\n",
       "      <td>1.0</td>\n",
       "    </tr>\n",
       "    <tr>\n",
       "      <th>2</th>\n",
       "      <td>3</td>\n",
       "      <td>303140046</td>\n",
       "      <td>479.19</td>\n",
       "      <td>20140116</td>\n",
       "      <td>2</td>\n",
       "      <td>12</td>\n",
       "      <td>1</td>\n",
       "      <td>2014</td>\n",
       "      <td>1</td>\n",
       "      <td>16</td>\n",
       "      <td>0</td>\n",
       "      <td>1</td>\n",
       "      <td>0.0</td>\n",
       "    </tr>\n",
       "    <tr>\n",
       "      <th>3</th>\n",
       "      <td>4</td>\n",
       "      <td>303140046</td>\n",
       "      <td>495.19</td>\n",
       "      <td>20140117</td>\n",
       "      <td>2</td>\n",
       "      <td>12</td>\n",
       "      <td>1</td>\n",
       "      <td>2014</td>\n",
       "      <td>1</td>\n",
       "      <td>17</td>\n",
       "      <td>1</td>\n",
       "      <td>0</td>\n",
       "      <td>0.0</td>\n",
       "    </tr>\n",
       "    <tr>\n",
       "      <th>4</th>\n",
       "      <td>5</td>\n",
       "      <td>303140046</td>\n",
       "      <td>535.19</td>\n",
       "      <td>20140110</td>\n",
       "      <td>7</td>\n",
       "      <td>12</td>\n",
       "      <td>1</td>\n",
       "      <td>2014</td>\n",
       "      <td>1</td>\n",
       "      <td>10</td>\n",
       "      <td>0</td>\n",
       "      <td>0</td>\n",
       "      <td>1.0</td>\n",
       "    </tr>\n",
       "  </tbody>\n",
       "</table>\n",
       "</div>"
      ],
      "text/plain": [
       "   Unnamed: 0   PROC_REA  VAL_TOT  DT_INTER  DIAS_PERM estado_id estacao  \\\n",
       "0           1  303140046   479.19  20140119          2        12       1   \n",
       "1           2  303140046   503.19  20140107          3        12       1   \n",
       "2           3  303140046   479.19  20140116          2        12       1   \n",
       "3           4  303140046   495.19  20140117          2        12       1   \n",
       "4           5  303140046   535.19  20140110          7        12       1   \n",
       "\n",
       "    ano  mes  dia SEXO_2 Idade_index  custo  \n",
       "0  2014    1   19      0           3    0.0  \n",
       "1  2014    1    7      1           0    1.0  \n",
       "2  2014    1   16      0           1    0.0  \n",
       "3  2014    1   17      1           0    0.0  \n",
       "4  2014    1   10      0           0    1.0  "
      ]
     },
     "execution_count": 14,
     "metadata": {},
     "output_type": "execute_result"
    }
   ],
   "source": [
    "df_hosp.head()"
   ]
  },
  {
   "cell_type": "code",
   "execution_count": 15,
   "metadata": {},
   "outputs": [],
   "source": [
    "df_hosp = df_hosp.drop([ 'VAL_TOT', 'PROC_REA',\n",
    "                        'DT_INTER', 'DIAS_PERM',\n",
    "                        'dia', 'mes'], 1)"
   ]
  },
  {
   "cell_type": "code",
   "execution_count": 16,
   "metadata": {},
   "outputs": [],
   "source": [
    "df_train = df_hosp[df_hosp['ano'] <= 2016]\n",
    "df_val = df_hosp[df_hosp['ano'] > 2016]"
   ]
  },
  {
   "cell_type": "code",
   "execution_count": 17,
   "metadata": {},
   "outputs": [
    {
     "data": {
      "text/html": [
       "<div>\n",
       "<style scoped>\n",
       "    .dataframe tbody tr th:only-of-type {\n",
       "        vertical-align: middle;\n",
       "    }\n",
       "\n",
       "    .dataframe tbody tr th {\n",
       "        vertical-align: top;\n",
       "    }\n",
       "\n",
       "    .dataframe thead th {\n",
       "        text-align: right;\n",
       "    }\n",
       "</style>\n",
       "<table border=\"1\" class=\"dataframe\">\n",
       "  <thead>\n",
       "    <tr style=\"text-align: right;\">\n",
       "      <th></th>\n",
       "      <th>Unnamed: 0</th>\n",
       "      <th>estado_id</th>\n",
       "      <th>estacao</th>\n",
       "      <th>ano</th>\n",
       "      <th>SEXO_2</th>\n",
       "      <th>Idade_index</th>\n",
       "      <th>custo</th>\n",
       "    </tr>\n",
       "  </thead>\n",
       "  <tbody>\n",
       "    <tr>\n",
       "      <th>0</th>\n",
       "      <td>1</td>\n",
       "      <td>12</td>\n",
       "      <td>1</td>\n",
       "      <td>2014</td>\n",
       "      <td>0</td>\n",
       "      <td>3</td>\n",
       "      <td>0.0</td>\n",
       "    </tr>\n",
       "    <tr>\n",
       "      <th>1</th>\n",
       "      <td>2</td>\n",
       "      <td>12</td>\n",
       "      <td>1</td>\n",
       "      <td>2014</td>\n",
       "      <td>1</td>\n",
       "      <td>0</td>\n",
       "      <td>1.0</td>\n",
       "    </tr>\n",
       "    <tr>\n",
       "      <th>2</th>\n",
       "      <td>3</td>\n",
       "      <td>12</td>\n",
       "      <td>1</td>\n",
       "      <td>2014</td>\n",
       "      <td>0</td>\n",
       "      <td>1</td>\n",
       "      <td>0.0</td>\n",
       "    </tr>\n",
       "    <tr>\n",
       "      <th>3</th>\n",
       "      <td>4</td>\n",
       "      <td>12</td>\n",
       "      <td>1</td>\n",
       "      <td>2014</td>\n",
       "      <td>1</td>\n",
       "      <td>0</td>\n",
       "      <td>0.0</td>\n",
       "    </tr>\n",
       "    <tr>\n",
       "      <th>4</th>\n",
       "      <td>5</td>\n",
       "      <td>12</td>\n",
       "      <td>1</td>\n",
       "      <td>2014</td>\n",
       "      <td>0</td>\n",
       "      <td>0</td>\n",
       "      <td>1.0</td>\n",
       "    </tr>\n",
       "  </tbody>\n",
       "</table>\n",
       "</div>"
      ],
      "text/plain": [
       "   Unnamed: 0 estado_id estacao   ano SEXO_2 Idade_index  custo\n",
       "0           1        12       1  2014      0           3    0.0\n",
       "1           2        12       1  2014      1           0    1.0\n",
       "2           3        12       1  2014      0           1    0.0\n",
       "3           4        12       1  2014      1           0    0.0\n",
       "4           5        12       1  2014      0           0    1.0"
      ]
     },
     "execution_count": 17,
     "metadata": {},
     "output_type": "execute_result"
    }
   ],
   "source": [
    "df_train.head()"
   ]
  },
  {
   "cell_type": "code",
   "execution_count": 18,
   "metadata": {},
   "outputs": [
    {
     "data": {
      "text/plain": [
       "OneHotEncoder(cols=['estado_id', 'estacao', 'ano', 'SEXO_2', 'Idade_index', 'custo'],\n",
       "       drop_invariant=False, handle_missing='value',\n",
       "       handle_unknown='value', return_df=True, use_cat_names=True,\n",
       "       verbose=0)"
      ]
     },
     "execution_count": 18,
     "metadata": {},
     "output_type": "execute_result"
    }
   ],
   "source": [
    "from category_encoders.one_hot import OneHotEncoder\n",
    "enc = OneHotEncoder(cols=['estado_id',\n",
    "                          'estacao', 'ano',\n",
    "                          'SEXO_2', 'Idade_index',\n",
    "                          'custo'], \n",
    "                          use_cat_names=True)\n",
    "enc.fit(df_train)"
   ]
  },
  {
   "cell_type": "code",
   "execution_count": 19,
   "metadata": {},
   "outputs": [],
   "source": [
    "df_train_ohe = enc.transform(df_train)"
   ]
  },
  {
   "cell_type": "code",
   "execution_count": 20,
   "metadata": {},
   "outputs": [],
   "source": [
    "df_train_ohe = df_train_ohe.astype(str)"
   ]
  },
  {
   "cell_type": "code",
   "execution_count": 21,
   "metadata": {},
   "outputs": [],
   "source": [
    "df_val_ohe = enc.transform(df_train)"
   ]
  },
  {
   "cell_type": "code",
   "execution_count": 22,
   "metadata": {},
   "outputs": [],
   "source": [
    "df_val_ohe = df_val_ohe.astype(str)"
   ]
  },
  {
   "cell_type": "code",
   "execution_count": 23,
   "metadata": {},
   "outputs": [],
   "source": [
    "df_val_ohe = enc.transform(df_val)"
   ]
  },
  {
   "cell_type": "code",
   "execution_count": 24,
   "metadata": {},
   "outputs": [
    {
     "data": {
      "text/html": [
       "<div>\n",
       "<style scoped>\n",
       "    .dataframe tbody tr th:only-of-type {\n",
       "        vertical-align: middle;\n",
       "    }\n",
       "\n",
       "    .dataframe tbody tr th {\n",
       "        vertical-align: top;\n",
       "    }\n",
       "\n",
       "    .dataframe thead th {\n",
       "        text-align: right;\n",
       "    }\n",
       "</style>\n",
       "<table border=\"1\" class=\"dataframe\">\n",
       "  <thead>\n",
       "    <tr style=\"text-align: right;\">\n",
       "      <th></th>\n",
       "      <th>Unnamed: 0</th>\n",
       "      <th>estado_id_12</th>\n",
       "      <th>estado_id_13</th>\n",
       "      <th>estado_id_27</th>\n",
       "      <th>estado_id_25</th>\n",
       "      <th>estado_id_15</th>\n",
       "      <th>estado_id_16</th>\n",
       "      <th>estado_id_29</th>\n",
       "      <th>estado_id_31</th>\n",
       "      <th>estado_id_28</th>\n",
       "      <th>...</th>\n",
       "      <th>SEXO_2_0</th>\n",
       "      <th>SEXO_2_1</th>\n",
       "      <th>Idade_index_3</th>\n",
       "      <th>Idade_index_0</th>\n",
       "      <th>Idade_index_1</th>\n",
       "      <th>Idade_index_4</th>\n",
       "      <th>Idade_index_2</th>\n",
       "      <th>Idade_index_5</th>\n",
       "      <th>custo_0.0</th>\n",
       "      <th>custo_1.0</th>\n",
       "    </tr>\n",
       "  </thead>\n",
       "  <tbody>\n",
       "    <tr>\n",
       "      <th>601</th>\n",
       "      <td>1</td>\n",
       "      <td>1</td>\n",
       "      <td>0</td>\n",
       "      <td>0</td>\n",
       "      <td>0</td>\n",
       "      <td>0</td>\n",
       "      <td>0</td>\n",
       "      <td>0</td>\n",
       "      <td>0</td>\n",
       "      <td>0</td>\n",
       "      <td>...</td>\n",
       "      <td>1</td>\n",
       "      <td>0</td>\n",
       "      <td>0</td>\n",
       "      <td>1</td>\n",
       "      <td>0</td>\n",
       "      <td>0</td>\n",
       "      <td>0</td>\n",
       "      <td>0</td>\n",
       "      <td>0</td>\n",
       "      <td>1</td>\n",
       "    </tr>\n",
       "    <tr>\n",
       "      <th>602</th>\n",
       "      <td>2</td>\n",
       "      <td>1</td>\n",
       "      <td>0</td>\n",
       "      <td>0</td>\n",
       "      <td>0</td>\n",
       "      <td>0</td>\n",
       "      <td>0</td>\n",
       "      <td>0</td>\n",
       "      <td>0</td>\n",
       "      <td>0</td>\n",
       "      <td>...</td>\n",
       "      <td>1</td>\n",
       "      <td>0</td>\n",
       "      <td>0</td>\n",
       "      <td>1</td>\n",
       "      <td>0</td>\n",
       "      <td>0</td>\n",
       "      <td>0</td>\n",
       "      <td>0</td>\n",
       "      <td>1</td>\n",
       "      <td>0</td>\n",
       "    </tr>\n",
       "    <tr>\n",
       "      <th>603</th>\n",
       "      <td>3</td>\n",
       "      <td>1</td>\n",
       "      <td>0</td>\n",
       "      <td>0</td>\n",
       "      <td>0</td>\n",
       "      <td>0</td>\n",
       "      <td>0</td>\n",
       "      <td>0</td>\n",
       "      <td>0</td>\n",
       "      <td>0</td>\n",
       "      <td>...</td>\n",
       "      <td>0</td>\n",
       "      <td>1</td>\n",
       "      <td>1</td>\n",
       "      <td>0</td>\n",
       "      <td>0</td>\n",
       "      <td>0</td>\n",
       "      <td>0</td>\n",
       "      <td>0</td>\n",
       "      <td>1</td>\n",
       "      <td>0</td>\n",
       "    </tr>\n",
       "    <tr>\n",
       "      <th>604</th>\n",
       "      <td>4</td>\n",
       "      <td>1</td>\n",
       "      <td>0</td>\n",
       "      <td>0</td>\n",
       "      <td>0</td>\n",
       "      <td>0</td>\n",
       "      <td>0</td>\n",
       "      <td>0</td>\n",
       "      <td>0</td>\n",
       "      <td>0</td>\n",
       "      <td>...</td>\n",
       "      <td>0</td>\n",
       "      <td>1</td>\n",
       "      <td>0</td>\n",
       "      <td>1</td>\n",
       "      <td>0</td>\n",
       "      <td>0</td>\n",
       "      <td>0</td>\n",
       "      <td>0</td>\n",
       "      <td>1</td>\n",
       "      <td>0</td>\n",
       "    </tr>\n",
       "    <tr>\n",
       "      <th>605</th>\n",
       "      <td>5</td>\n",
       "      <td>1</td>\n",
       "      <td>0</td>\n",
       "      <td>0</td>\n",
       "      <td>0</td>\n",
       "      <td>0</td>\n",
       "      <td>0</td>\n",
       "      <td>0</td>\n",
       "      <td>0</td>\n",
       "      <td>0</td>\n",
       "      <td>...</td>\n",
       "      <td>0</td>\n",
       "      <td>1</td>\n",
       "      <td>0</td>\n",
       "      <td>1</td>\n",
       "      <td>0</td>\n",
       "      <td>0</td>\n",
       "      <td>0</td>\n",
       "      <td>0</td>\n",
       "      <td>1</td>\n",
       "      <td>0</td>\n",
       "    </tr>\n",
       "  </tbody>\n",
       "</table>\n",
       "<p>5 rows × 45 columns</p>\n",
       "</div>"
      ],
      "text/plain": [
       "     Unnamed: 0  estado_id_12  estado_id_13  estado_id_27  estado_id_25  \\\n",
       "601           1             1             0             0             0   \n",
       "602           2             1             0             0             0   \n",
       "603           3             1             0             0             0   \n",
       "604           4             1             0             0             0   \n",
       "605           5             1             0             0             0   \n",
       "\n",
       "     estado_id_15  estado_id_16  estado_id_29  estado_id_31  estado_id_28  \\\n",
       "601             0             0             0             0             0   \n",
       "602             0             0             0             0             0   \n",
       "603             0             0             0             0             0   \n",
       "604             0             0             0             0             0   \n",
       "605             0             0             0             0             0   \n",
       "\n",
       "     ...  SEXO_2_0  SEXO_2_1  Idade_index_3  Idade_index_0  Idade_index_1  \\\n",
       "601  ...         1         0              0              1              0   \n",
       "602  ...         1         0              0              1              0   \n",
       "603  ...         0         1              1              0              0   \n",
       "604  ...         0         1              0              1              0   \n",
       "605  ...         0         1              0              1              0   \n",
       "\n",
       "     Idade_index_4  Idade_index_2  Idade_index_5  custo_0.0  custo_1.0  \n",
       "601              0              0              0          0          1  \n",
       "602              0              0              0          1          0  \n",
       "603              0              0              0          1          0  \n",
       "604              0              0              0          1          0  \n",
       "605              0              0              0          1          0  \n",
       "\n",
       "[5 rows x 45 columns]"
      ]
     },
     "execution_count": 24,
     "metadata": {},
     "output_type": "execute_result"
    }
   ],
   "source": [
    "df_val_ohe.head()"
   ]
  },
  {
   "cell_type": "code",
   "execution_count": 25,
   "metadata": {},
   "outputs": [],
   "source": [
    "X_train = df_train_ohe.drop('custo_1.0', axis=1)\n",
    "X_val = df_train_ohe.drop('custo_1.0', axis=1)\n",
    "\n",
    "y_train = df_train_ohe['custo_1.0']\n",
    "y_val = df_train_ohe['custo_1.0']"
   ]
  },
  {
   "cell_type": "markdown",
   "metadata": {},
   "source": [
    "# Treino dos modelos"
   ]
  },
  {
   "cell_type": "markdown",
   "metadata": {},
   "source": [
    "## Divisão 70% treino 30% teste\n",
    "Metodo classico usado por Data Scientists em um primeiro teste"
   ]
  },
  {
   "cell_type": "code",
   "execution_count": 26,
   "metadata": {},
   "outputs": [],
   "source": [
    "seed = 7\n",
    "test_size = 0.33\n",
    "X_train, X_test, y_train, y_test = train_test_split(X_val, y_val, test_size=test_size, random_state=seed)"
   ]
  },
  {
   "cell_type": "markdown",
   "metadata": {},
   "source": [
    "### Rede Neural"
   ]
  },
  {
   "cell_type": "code",
   "execution_count": 27,
   "metadata": {},
   "outputs": [],
   "source": [
    "clf0 = MLPClassifier()"
   ]
  },
  {
   "cell_type": "code",
   "execution_count": 28,
   "metadata": {},
   "outputs": [
    {
     "data": {
      "text/plain": [
       "MLPClassifier(activation='relu', alpha=0.0001, batch_size='auto', beta_1=0.9,\n",
       "       beta_2=0.999, early_stopping=False, epsilon=1e-08,\n",
       "       hidden_layer_sizes=(100,), learning_rate='constant',\n",
       "       learning_rate_init=0.001, max_iter=200, momentum=0.9,\n",
       "       n_iter_no_change=10, nesterovs_momentum=True, power_t=0.5,\n",
       "       random_state=None, shuffle=True, solver='adam', tol=0.0001,\n",
       "       validation_fraction=0.1, verbose=False, warm_start=False)"
      ]
     },
     "execution_count": 28,
     "metadata": {},
     "output_type": "execute_result"
    }
   ],
   "source": [
    "clf0.fit(X_train, y_train)"
   ]
  },
  {
   "cell_type": "code",
   "execution_count": 29,
   "metadata": {},
   "outputs": [],
   "source": [
    "nnt = clf0.predict(X_val)"
   ]
  },
  {
   "cell_type": "code",
   "execution_count": 30,
   "metadata": {},
   "outputs": [
    {
     "data": {
      "text/plain": [
       "array([[185351,      6],\n",
       "       [     2, 109748]])"
      ]
     },
     "execution_count": 30,
     "metadata": {},
     "output_type": "execute_result"
    }
   ],
   "source": [
    "confusion_matrix(y_val, nnt)"
   ]
  },
  {
   "cell_type": "code",
   "execution_count": 31,
   "metadata": {},
   "outputs": [
    {
     "name": "stdout",
     "output_type": "stream",
     "text": [
      "Accuracy Neural Networt: 100.00%\n"
     ]
    }
   ],
   "source": [
    "accuracy1 = accuracy_score(y_val, nnt)\n",
    "print(\"Accuracy Neural Networt: %.2f%%\" % (accuracy1 * 100.0))"
   ]
  },
  {
   "cell_type": "markdown",
   "metadata": {},
   "source": [
    "### Decision tree"
   ]
  },
  {
   "cell_type": "code",
   "execution_count": 32,
   "metadata": {},
   "outputs": [],
   "source": [
    "clf1 = DecisionTreeClassifier(max_depth=None, min_samples_split=2,\n",
    "       random_state=0)"
   ]
  },
  {
   "cell_type": "code",
   "execution_count": 33,
   "metadata": {},
   "outputs": [
    {
     "data": {
      "text/plain": [
       "DecisionTreeClassifier(class_weight=None, criterion='gini', max_depth=None,\n",
       "            max_features=None, max_leaf_nodes=None,\n",
       "            min_impurity_decrease=0.0, min_impurity_split=None,\n",
       "            min_samples_leaf=1, min_samples_split=2,\n",
       "            min_weight_fraction_leaf=0.0, presort=False, random_state=0,\n",
       "            splitter='best')"
      ]
     },
     "execution_count": 33,
     "metadata": {},
     "output_type": "execute_result"
    }
   ],
   "source": [
    "clf1.fit(X_train, y_train)"
   ]
  },
  {
   "cell_type": "code",
   "execution_count": 34,
   "metadata": {},
   "outputs": [],
   "source": [
    "dt = clf1.predict(X_val)"
   ]
  },
  {
   "cell_type": "code",
   "execution_count": 35,
   "metadata": {},
   "outputs": [
    {
     "data": {
      "text/plain": [
       "array([[185357,      0],\n",
       "       [     0, 109750]])"
      ]
     },
     "execution_count": 35,
     "metadata": {},
     "output_type": "execute_result"
    }
   ],
   "source": [
    "confusion_matrix(y_val, dt)"
   ]
  },
  {
   "cell_type": "code",
   "execution_count": 36,
   "metadata": {},
   "outputs": [
    {
     "name": "stdout",
     "output_type": "stream",
     "text": [
      "Accuracy Decision Tree: 100.00%\n"
     ]
    }
   ],
   "source": [
    "accuracy1 = accuracy_score(y_val, dt)\n",
    "print(\"Accuracy Decision Tree: %.2f%%\" % (accuracy1 * 100.0))"
   ]
  },
  {
   "cell_type": "markdown",
   "metadata": {},
   "source": [
    "### Random Forest"
   ]
  },
  {
   "cell_type": "code",
   "execution_count": 37,
   "metadata": {},
   "outputs": [],
   "source": [
    "clf2 = RandomForestClassifier(n_estimators=100, max_depth=2,\n",
    "                             random_state=0)"
   ]
  },
  {
   "cell_type": "code",
   "execution_count": 38,
   "metadata": {},
   "outputs": [
    {
     "data": {
      "text/plain": [
       "RandomForestClassifier(bootstrap=True, class_weight=None, criterion='gini',\n",
       "            max_depth=2, max_features='auto', max_leaf_nodes=None,\n",
       "            min_impurity_decrease=0.0, min_impurity_split=None,\n",
       "            min_samples_leaf=1, min_samples_split=2,\n",
       "            min_weight_fraction_leaf=0.0, n_estimators=100, n_jobs=None,\n",
       "            oob_score=False, random_state=0, verbose=0, warm_start=False)"
      ]
     },
     "execution_count": 38,
     "metadata": {},
     "output_type": "execute_result"
    }
   ],
   "source": [
    "clf2.fit(X_train, y_train)"
   ]
  },
  {
   "cell_type": "code",
   "execution_count": 39,
   "metadata": {},
   "outputs": [],
   "source": [
    "rf = clf2.predict(X_val)"
   ]
  },
  {
   "cell_type": "code",
   "execution_count": 40,
   "metadata": {},
   "outputs": [
    {
     "data": {
      "text/plain": [
       "array([[185357,      0],\n",
       "       [ 14205,  95545]])"
      ]
     },
     "execution_count": 40,
     "metadata": {},
     "output_type": "execute_result"
    }
   ],
   "source": [
    "confusion_matrix(y_val, rf)"
   ]
  },
  {
   "cell_type": "code",
   "execution_count": 41,
   "metadata": {},
   "outputs": [
    {
     "name": "stdout",
     "output_type": "stream",
     "text": [
      "Accuracy Random Forest: 95.19%\n"
     ]
    }
   ],
   "source": [
    "accuracy1 = accuracy_score(y_val, rf)\n",
    "print(\"Accuracy Random Forest: %.2f%%\" % (accuracy1 * 100.0))"
   ]
  },
  {
   "cell_type": "markdown",
   "metadata": {},
   "source": [
    "### XGboost"
   ]
  },
  {
   "cell_type": "code",
   "execution_count": 42,
   "metadata": {},
   "outputs": [],
   "source": [
    "clf3 = GradientBoostingClassifier(n_estimators=100, learning_rate=1.0,\n",
    "                                   max_depth=1, random_state=0)"
   ]
  },
  {
   "cell_type": "code",
   "execution_count": 43,
   "metadata": {},
   "outputs": [
    {
     "data": {
      "text/plain": [
       "GradientBoostingClassifier(criterion='friedman_mse', init=None,\n",
       "              learning_rate=1.0, loss='deviance', max_depth=1,\n",
       "              max_features=None, max_leaf_nodes=None,\n",
       "              min_impurity_decrease=0.0, min_impurity_split=None,\n",
       "              min_samples_leaf=1, min_samples_split=2,\n",
       "              min_weight_fraction_leaf=0.0, n_estimators=100,\n",
       "              n_iter_no_change=None, presort='auto', random_state=0,\n",
       "              subsample=1.0, tol=0.0001, validation_fraction=0.1,\n",
       "              verbose=0, warm_start=False)"
      ]
     },
     "execution_count": 43,
     "metadata": {},
     "output_type": "execute_result"
    }
   ],
   "source": [
    "clf3.fit(X_train, y_train) "
   ]
  },
  {
   "cell_type": "code",
   "execution_count": 44,
   "metadata": {},
   "outputs": [],
   "source": [
    "xg = clf3.predict(X_val)"
   ]
  },
  {
   "cell_type": "code",
   "execution_count": 45,
   "metadata": {},
   "outputs": [
    {
     "data": {
      "text/plain": [
       "array([[185357,      0],\n",
       "       [     0, 109750]])"
      ]
     },
     "execution_count": 45,
     "metadata": {},
     "output_type": "execute_result"
    }
   ],
   "source": [
    "confusion_matrix(y_val, xg)"
   ]
  },
  {
   "cell_type": "code",
   "execution_count": 46,
   "metadata": {},
   "outputs": [
    {
     "name": "stdout",
     "output_type": "stream",
     "text": [
      "Accuracy Confusion Matrix XGboost: 100.00%\n"
     ]
    }
   ],
   "source": [
    "accuracy12 = accuracy_score(y_val, xg)\n",
    "print(\"Accuracy Confusion Matrix XGboost: %.2f%%\" % (accuracy12 * 100.0))"
   ]
  },
  {
   "cell_type": "markdown",
   "metadata": {},
   "source": [
    "## Validação Cruzada\n",
    "Metodo mais refinado e balanceado feito para melhorar o acerto distribuindo em toda população."
   ]
  },
  {
   "cell_type": "code",
   "execution_count": 47,
   "metadata": {},
   "outputs": [],
   "source": [
    "clf0 = MLPClassifier()\n",
    "\n",
    "clf1 = DecisionTreeClassifier(max_depth=None, min_samples_split=2,\n",
    "       random_state=0)\n",
    "\n",
    "clf2 = RandomForestClassifier(n_estimators=100, max_depth=2,\n",
    "                             random_state=0)\n",
    "\n",
    "clf3 = GradientBoostingClassifier(n_estimators=100, learning_rate=1.0,\n",
    "                                   max_depth=1, random_state=0)"
   ]
  },
  {
   "cell_type": "code",
   "execution_count": 48,
   "metadata": {},
   "outputs": [],
   "source": [
    "cv0_score = cross_val_score(clf0, \n",
    "                            X_val, y_val, \n",
    "                            cv = 10)\n",
    "\n",
    "cv1_score = cross_val_score(clf1, \n",
    "                            X_val, y_val, \n",
    "                            cv = 10)\n",
    "\n",
    "cv2_score = cross_val_score(clf2, \n",
    "                            X_val, y_val, \n",
    "                            cv = 10)\n",
    "\n",
    "cv3_score = cross_val_score(clf3, \n",
    "                            X_val, y_val, \n",
    "                            cv = 10)\n",
    "\n",
    "#cv_test_score = cross_validate(clf_teste, df_hosp.drop('DIAS_PERM', 1), df_hosp.DIAS_PERM, cv = 10, scoring = ['explained_variance', 'neg_mean_absolute_error', 'neg_mean_squared_error', 'r2'])"
   ]
  },
  {
   "cell_type": "code",
   "execution_count": 49,
   "metadata": {},
   "outputs": [
    {
     "name": "stdout",
     "output_type": "stream",
     "text": [
      "[0.99732303 0.9997628  1.         0.71756294 1.         0.96835078\n",
      " 0.49574735 0.99335818 0.94056252 0.39149441]\n",
      "[1. 1. 1. 1. 1. 1. 1. 1. 1. 1.]\n",
      "[0.98322659 0.76442682 0.91975873 1.         1.         0.99207075\n",
      " 0.91847108 0.92846493 0.85970857 0.99190105]\n",
      "[1. 1. 1. 1. 1. 1. 1. 1. 1. 1.]\n"
     ]
    }
   ],
   "source": [
    "print(cv0_score)\n",
    "\n",
    "print(cv1_score)\n",
    "\n",
    "print(cv2_score)\n",
    "\n",
    "print(cv3_score)\n",
    "\n",
    "#print(cv_teste_score)"
   ]
  },
  {
   "cell_type": "code",
   "execution_count": 55,
   "metadata": {},
   "outputs": [
    {
     "name": "stdout",
     "output_type": "stream",
     "text": [
      "Accuracy Rede Neural: 85.04%\n",
      "Accuracy Decision Tree: 100.00%\n",
      "Accuracy Random Forest: 93.58%\n",
      "Accuracy XGboost: 100.00%\n"
     ]
    }
   ],
   "source": [
    "print(\"Accuracy Rede Neural: %.2f%%\" % (cv0_score.mean() * 100.0)) \n",
    "print(\"Accuracy Decision Tree: %.2f%%\" % (cv1_score.mean() * 100.0)) \n",
    "print(\"Accuracy Random Forest: %.2f%%\" % (cv2_score.mean() * 100.0)) \n",
    "print(\"Accuracy XGboost: %.2f%%\" % (cv3_score.mean() * 100.0)) "
   ]
  },
  {
   "cell_type": "markdown",
   "metadata": {},
   "source": [
    "## ESEMBLE classificação por voto dos modelos JUNTOS\n",
    "Metodo de UNIAO dos modelos usados quando os mesmos divergem em seus acertos."
   ]
  },
  {
   "cell_type": "code",
   "execution_count": 56,
   "metadata": {},
   "outputs": [],
   "source": [
    "eclf1 = VotingClassifier(estimators=[\n",
    "                          ('nnet', clf0), ('dt', clf1), ('rf', clf2), ('xg', clf3)], voting='hard')"
   ]
  },
  {
   "cell_type": "code",
   "execution_count": 57,
   "metadata": {},
   "outputs": [],
   "source": [
    "cv_esemble_score = cross_val_score(eclf1, \n",
    "                                  X_val, y_val, \n",
    "                                  cv = 10)"
   ]
  },
  {
   "cell_type": "code",
   "execution_count": 58,
   "metadata": {},
   "outputs": [
    {
     "name": "stdout",
     "output_type": "stream",
     "text": [
      "[0.99749246 0.99959337 1.         1.         1.         0.99207075\n",
      " 0.96770696 0.99657743 0.949102   1.        ]\n"
     ]
    }
   ],
   "source": [
    "print(cv_esemble_score)"
   ]
  },
  {
   "cell_type": "code",
   "execution_count": 59,
   "metadata": {},
   "outputs": [
    {
     "name": "stdout",
     "output_type": "stream",
     "text": [
      " ESEMBLE Accuracy: 99.03%\n"
     ]
    }
   ],
   "source": [
    "print(\" ESEMBLE Accuracy: %.2f%%\" % (cv_esemble_score.mean() * 100.0)) \n"
   ]
  }
 ],
 "metadata": {
  "kernelspec": {
   "display_name": "Python 3",
   "language": "python",
   "name": "python3"
  },
  "language_info": {
   "codemirror_mode": {
    "name": "ipython",
    "version": 3
   },
   "file_extension": ".py",
   "mimetype": "text/x-python",
   "name": "python",
   "nbconvert_exporter": "python",
   "pygments_lexer": "ipython3",
   "version": "3.7.3"
  }
 },
 "nbformat": 4,
 "nbformat_minor": 2
}
